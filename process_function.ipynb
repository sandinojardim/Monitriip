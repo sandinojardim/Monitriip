{
 "cells": [
  {
   "cell_type": "code",
   "execution_count": 1,
   "id": "0d88c100",
   "metadata": {},
   "outputs": [],
   "source": [
    "def pre_processing(df):\n",
    "    #remove columns\n",
    "    df = df.drop(['codigo_viagem','tipo_viagem','data_viagem_programada','hora_viagem_programada','pdop','numero_imei','in_transbordo','codigo_viagem_transbordo'],axis=1)\n",
    "    \n",
    "    df['data_inicio_viagem'] = pd.to_datetime(df['data_inicio_viagem'])\n",
    "    df['data_fim_viagem'] = pd.to_datetime(df['data_fim_viagem'])\n",
    "    \n",
    "    df = df.sort_values('data_inicio_viagem')\n",
    "    \n",
    "    mask = (df['latitude'] >= -15.8999) & (df['latitude'] <= -15.8711) & (df['longitude'] >= -52.3206) & (df['longitude'] <= -52.2544)\n",
    "    \n",
    "    bg = df[mask]\n",
    "    \n",
    "    bg = bg.drop_duplicates(subset=['data_inicio_viagem', 'data_fim_viagem'], keep='first')\n",
    "    \n",
    "    linhas = pd.read_csv('linhas_secoes.csv', encoding='latin', sep=',')\n",
    "    \n",
    "    linhas['prefixo'] = linhas['prefixo'].str.replace('-', '').astype(int)\n",
    "    \n",
    "    # Group the linhas DataFrame by prefixo and get the first row of each group\n",
    "    linhas_df = linhas.groupby('prefixo').first().reset_index()\n",
    "\n",
    "    # Merge the viagens and linhas DataFrames on the prefixo and nu_linha columns\n",
    "    viagens_df = pd.merge(bg, linhas_df[['prefixo', 'descricao_linha']], \n",
    "                          left_on='nu_linha', right_on='prefixo')\n",
    "\n",
    "    # Drop the prefixo column\n",
    "    viagens_df.drop('prefixo', axis=1, inplace=True)\n",
    "\n",
    "    # Rename the descricao_linha column to desc_linha\n",
    "    viagens_df.rename(columns={'descricao_linha': 'desc_linha'}, inplace=True)\n",
    "    \n",
    "    viagens_sorted = viagens_df.sort_values('data_inicio_viagem')\n",
    "    \n",
    "    return viagens_sorted"
   ]
  }
 ],
 "metadata": {
  "kernelspec": {
   "display_name": "Python 3 (ipykernel)",
   "language": "python",
   "name": "python3"
  },
  "language_info": {
   "codemirror_mode": {
    "name": "ipython",
    "version": 3
   },
   "file_extension": ".py",
   "mimetype": "text/x-python",
   "name": "python",
   "nbconvert_exporter": "python",
   "pygments_lexer": "ipython3",
   "version": "3.9.12"
  }
 },
 "nbformat": 4,
 "nbformat_minor": 5
}
