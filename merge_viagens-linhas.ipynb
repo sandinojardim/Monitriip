{
 "cells": [
  {
   "cell_type": "code",
   "execution_count": 18,
   "id": "b4576141",
   "metadata": {},
   "outputs": [],
   "source": [
    "import pandas as pd\n",
    "\n",
    "# read in the vg and linhas_secoes dataframes\n",
    "vg = pd.read_csv('viagem_regular_2021.csv', encoding='latin', sep=',')\n",
    "linhas = pd.read_csv('linhas_secoes.csv', encoding='latin', sep=',')\n",
    "\n",
    "# replace the '-' in the prefixo column and convert to int\n",
    "linhas['prefixo'] = linhas['prefixo'].str.replace('-', '').astype(int)\n",
    "\n",
    "linhas = linhas[(linhas['municipio_origem'] == 'BARRA DO GARCAS') | \n",
    "                                       (linhas['municipio_destino'] == 'BARRA DO GARCAS')]\n",
    "\n",
    "# create a new dataframe with nu_linha and municipio_origem/municipio_destino\n",
    "nu_linha_municipios = linhas[['prefixo', 'municipio_origem', 'municipio_destino']]\n",
    "\n",
    "# merge the vg dataframe with the nu_linha_municipios dataframe on the nu_linha column\n",
    "vg_merged = pd.merge(vg, nu_linha_municipios, left_on='nu_linha', right_on='prefixo')\n",
    "\n",
    "# drop the prefixo column from the merged dataframe\n",
    "vg_merged.drop('prefixo', axis=1, inplace=True)"
   ]
  },
  {
   "cell_type": "code",
   "execution_count": 22,
   "id": "d226a546",
   "metadata": {},
   "outputs": [
    {
     "data": {
      "text/plain": [
       "BARRA DO GARCAS           16830\n",
       "NOVO PROGRESSO              459\n",
       "TRAIRAO                     324\n",
       "ITAITUBA                    324\n",
       "ALTAMIRA                    275\n",
       "                          ...  \n",
       "IPORA                        25\n",
       "REDENCAO                     14\n",
       "SANTANA DO ARAGUAIA          14\n",
       "ISRAELANDIA                   6\n",
       "PALMEIRAS DO TOCANTINS        4\n",
       "Name: municipio_destino, Length: 83, dtype: int64"
      ]
     },
     "execution_count": 22,
     "metadata": {},
     "output_type": "execute_result"
    }
   ],
   "source": [
    "vg_merged['municipio_destino'].value_counts()"
   ]
  },
  {
   "cell_type": "code",
   "execution_count": null,
   "id": "6d91b8b6",
   "metadata": {},
   "outputs": [],
   "source": [
    "#second version\n",
    "\n",
    "# read the dataframes\n",
    "vg = pd.read_csv('viagem_regular_2021.csv', encoding='latin', sep=',')\n",
    "ls = pd.read_csv('linhas_secoes.csv', encoding='latin', sep=',')\n",
    "\n",
    "# replace '-' in the prefixo column with ''\n",
    "ls['prefixo'] = ls['prefixo'].str.replace('-', '')\n",
    "\n",
    "# merge based on matching prefixo column and municipio_origem or municipio_destino equals 'BARRA DO GARCAS'\n",
    "merged = pd.merge(vg, ls, how='left', left_on='nu_linha', right_on='prefixo')\n",
    "merged = merged[(merged['municipio_origem'] == 'BARRA DO GARCAS') | (merged['municipio_destino'] == 'BARRA DO GARCAS')]\n",
    "\n",
    "# filter based on sentido_linha column\n",
    "if merged['sentido_linha'].iloc[0] == 0:\n",
    "    final_df = merged[merged['municipio_origem'] == 'BARRA DO GARCAS']\n",
    "else:\n",
    "    final_df = merged[merged['municipio_destino'] == 'BARRA DO GARCAS']\n"
   ]
  }
 ],
 "metadata": {
  "kernelspec": {
   "display_name": "Python 3 (ipykernel)",
   "language": "python",
   "name": "python3"
  },
  "language_info": {
   "codemirror_mode": {
    "name": "ipython",
    "version": 3
   },
   "file_extension": ".py",
   "mimetype": "text/x-python",
   "name": "python",
   "nbconvert_exporter": "python",
   "pygments_lexer": "ipython3",
   "version": "3.9.12"
  }
 },
 "nbformat": 4,
 "nbformat_minor": 5
}
